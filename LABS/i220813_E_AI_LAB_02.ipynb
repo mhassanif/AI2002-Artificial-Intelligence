{
  "cells": [
    {
      "cell_type": "markdown",
      "metadata": {
        "id": "Rh7r5rHK_3mS"
      },
      "source": [
        "Task 1:\n",
        "\n",
        "Write a function calculator(operation) that performs basic operations(add, subtract, multiply,\n",
        "and divide). The function takes one argument, operation, and returns a lambda function. Inside\n",
        "calculator, use a nested function that accepts two integers, x and y, and computes the result\n",
        "based on the specified operation.\n",
        "\n",
        "Requirements:\n",
        "\n",
        "• If operation is invalid, the lambda should raise a ValueError with \"Invalid operation\".\n",
        "\n",
        "• Handle division by zero in the nested function by returning \"Division by zero is not\n",
        "allowed\".\n",
        "\n",
        "Expected Output:\n",
        "\n",
        "add_fn = calculator(\"add\")\n",
        "\n",
        "print(add_fn(5, 3))\n",
        "\n",
        "Output: 8"
      ]
    },
    {
      "cell_type": "code",
      "execution_count": 5,
      "metadata": {
        "colab": {
          "base_uri": "https://localhost:8080/"
        },
        "id": "OxKgR8N6AEre",
        "outputId": "61fbdc07-4d55-4249-8d8f-717a2720eac2"
      },
      "outputs": [
        {
          "name": "stdout",
          "output_type": "stream",
          "text": [
            "5 + 3 =  8\n"
          ]
        }
      ],
      "source": [
        "def calculator(operation):\n",
        "  if operation == \"add\":\n",
        "    return lambda x, y: x + y\n",
        "  elif operation == \"sub\":\n",
        "    return lambda x, y: x - y\n",
        "  elif operation == \"mul\":\n",
        "    return lambda x, y: x * y\n",
        "  elif operation == \"div\":\n",
        "    return lambda x, y: x / y if y != 0 else \"Division by zero is not allowed!\"\n",
        "  else:\n",
        "    raise ValueError(\"Invalid operation!\")\n",
        "\n",
        "add_fn = calculator(\"add\")\n",
        "print(\"5 + 3 = \", add_fn(5, 3))"
      ]
    },
    {
      "cell_type": "markdown",
      "metadata": {
        "id": "S46YLjFoB5I_"
      },
      "source": [
        "Task 2:\n",
        "Given the dataset students_score_data.csv you have to perform:\n",
        "\n",
        "• Load the Data:\n",
        "\n",
        "▪ Create a Pandas DataFrame with the above data.\n",
        "\n",
        "▪ Display the first few rows.\n",
        "\n",
        "• Fill the missing values:\n",
        "\n",
        "▪ Fill the missing values with the average value of each column\n",
        "\n",
        "▪ Remove the row where all three subjects’ marks are missing\n",
        "\n",
        "▪ If the score in any subject is less than zero replace it with zero.\n",
        "\n",
        "• Calculate the Average Score:\n",
        "\n",
        "▪ Create a new column Average_Score that contains the average score of Math,\n",
        "Science, and English for each student.\n",
        "• Determine Pass/Fail Status:\n",
        "\n",
        "▪ Add another column Pass_Status. A student is considered \"Pass\" if their\n",
        "Average_Score is 75 or above, otherwise \"Fail\".\n",
        "\n",
        "▪ Encode the Pass_Status column, 0 for Pass and 1 for Fail.\n",
        "\n",
        "▪ Count the total number of students pass and calculate the percentage of pass\n",
        "students.\n",
        "\n",
        "• Determine top 3 students:\n",
        "\n",
        "▪ Determine the top 3 based on total marks\n",
        "\n",
        "• Display the Updated Data:\n",
        "\n",
        "▪ Show the DataFrame with the new columns."
      ]
    },
    {
      "cell_type": "code",
      "execution_count": 34,
      "metadata": {
        "colab": {
          "base_uri": "https://localhost:8080/"
        },
        "id": "M0Kkdhl0CMVr",
        "outputId": "6e6a6a21-92cf-4caa-a8bb-0486738d7026"
      },
      "outputs": [
        {
          "name": "stdout",
          "output_type": "stream",
          "text": [
            "Initial Data:\n",
            "   Student_ID         Name Math  Science  English\n",
            "0         101  Student_101   98     95.0     93.0\n",
            "1         102  Student_102   88     99.0     92.0\n",
            "2         103  Student_103   74     63.0     82.0\n",
            "3         104  Student_104   67     61.0     83.0\n",
            "4         105  Student_105   80     65.0     96.0\n",
            "Total Students Passed: 34\n",
            "Pass Percentage: 69.39%\n",
            "\n",
            "Top 3 Students:\n",
            "    Student_ID         Name  Math  Science  English  Average_Score  \\\n",
            "0          101  Student_101  98.0     95.0     93.0      95.333333   \n",
            "11         112  Student_112  95.0     95.0     94.0      94.666667   \n",
            "1          102  Student_102  88.0     99.0     92.0      93.000000   \n",
            "\n",
            "   Pass_Status  Pass_Status_Encoded  Total_Marks  \n",
            "0         Pass                    0        286.0  \n",
            "11        Pass                    0        284.0  \n",
            "1         Pass                    0        279.0  \n",
            "\n",
            "Updated DataFrame:\n",
            "   Student_ID         Name  Math  Science  English  Average_Score Pass_Status  \\\n",
            "0         101  Student_101  98.0     95.0     93.0      95.333333        Pass   \n",
            "1         102  Student_102  88.0     99.0     92.0      93.000000        Pass   \n",
            "2         103  Student_103  74.0     63.0     82.0      73.000000        Fail   \n",
            "3         104  Student_104  67.0     61.0     83.0      70.333333        Fail   \n",
            "4         105  Student_105  80.0     65.0     96.0      80.333333        Pass   \n",
            "\n",
            "   Pass_Status_Encoded  Total_Marks  \n",
            "0                    0        286.0  \n",
            "1                    0        279.0  \n",
            "2                    1        219.0  \n",
            "3                    1        211.0  \n",
            "4                    0        241.0  \n",
            "    Student_ID         Name       Math     Science    English  Average_Score  \\\n",
            "0          101  Student_101  98.000000   95.000000  93.000000      95.333333   \n",
            "1          102  Student_102  88.000000   99.000000  92.000000      93.000000   \n",
            "2          103  Student_103  74.000000   63.000000  82.000000      73.000000   \n",
            "3          104  Student_104  67.000000   61.000000  83.000000      70.333333   \n",
            "4          105  Student_105  80.000000   65.000000  96.000000      80.333333   \n",
            "5          106  Student_106  98.000000   63.000000  94.000000      85.000000   \n",
            "6          107  Student_107  78.000000   88.000000   0.000000      55.333333   \n",
            "7          108  Student_108  78.627907   77.000000  81.000000      78.875969   \n",
            "8          109  Student_109  70.000000   77.297872  86.000000      77.765957   \n",
            "9          110  Student_110  70.000000   93.000000  94.000000      85.666667   \n",
            "10         111  Student_111  78.627907   69.000000  60.000000      69.209302   \n",
            "11         112  Student_112  95.000000   95.000000  94.000000      94.666667   \n",
            "12         113  Student_113  99.000000   77.297872  96.000000      90.765957   \n",
            "13         114  Student_114  83.000000   90.000000  73.000000      82.000000   \n",
            "15         116  Student_116  81.000000   67.000000  60.000000      69.333333   \n",
            "16         117  Student_117  61.000000   73.000000  78.782609      70.927536   \n",
            "17         118  Student_118  83.000000   82.000000  85.000000      83.333333   \n",
            "18         119  Student_119  89.000000   99.000000  73.000000      87.000000   \n",
            "19         120  Student_120  97.000000   80.000000  98.000000      91.666667   \n",
            "20         121  Student_121  78.627907   75.000000  86.000000      79.875969   \n",
            "21         122  Student_122  80.000000    0.000000  68.000000      49.333333   \n",
            "22         123  Student_123  92.000000   83.000000  74.000000      83.000000   \n",
            "23         124  Student_124  71.000000   85.000000  74.000000      76.666667   \n",
            "24         125  Student_125  81.000000   84.000000   0.000000      55.000000   \n",
            "25         126  Student_126  84.000000  100.000000  72.000000      85.333333   \n",
            "26         127  Student_127  86.000000   88.000000  91.000000      88.333333   \n",
            "27         128  Student_128  87.000000   74.000000  98.000000      86.333333   \n",
            "28         129  Student_129  78.627907   60.000000  91.000000      76.542636   \n",
            "29         130  Student_130   0.000000   84.000000  63.000000      49.000000   \n",
            "30         131  Student_131  62.000000   66.000000  89.000000      72.333333   \n",
            "31         132  Student_132  96.000000   68.000000  96.000000      86.666667   \n",
            "32         133  Student_133  66.000000   83.000000  78.782609      75.927536   \n",
            "33         134  Student_134  80.000000   60.000000  98.000000      79.333333   \n",
            "34         135  Student_135  78.627907   67.000000  74.000000      73.209302   \n",
            "35         136  Student_136  98.000000   83.000000  88.000000      89.666667   \n",
            "36         137  Student_137  77.000000   70.000000  78.782609      75.260870   \n",
            "37         138  Student_138  63.000000   76.000000  72.000000      70.333333   \n",
            "38         139  Student_139  84.000000   67.000000  91.000000      80.666667   \n",
            "39         140  Student_140  73.000000   94.000000  66.000000      77.666667   \n",
            "40         141  Student_141  68.000000   94.000000  81.000000      81.000000   \n",
            "41         142  Student_142  85.000000   92.000000  87.000000      88.000000   \n",
            "42         143  Student_143  61.000000   64.000000  61.000000      62.000000   \n",
            "43         144  Student_144  79.000000   98.000000  65.000000      80.666667   \n",
            "44         145  Student_145  87.000000  100.000000  87.000000      91.333333   \n",
            "45         146  Student_146  78.627907   87.000000  87.000000      84.209302   \n",
            "46         147  Student_147  67.000000   66.000000  79.000000      70.666667   \n",
            "47         148  Student_148  94.000000   68.000000  89.000000      83.666667   \n",
            "48         149  Student_149  73.000000   67.000000  70.000000      70.000000   \n",
            "49         150  Student_150  76.000000   71.000000  87.000000      78.000000   \n",
            "\n",
            "   Pass_Status  Pass_Status_Encoded  Total_Marks  \n",
            "0         Pass                    0   286.000000  \n",
            "1         Pass                    0   279.000000  \n",
            "2         Fail                    1   219.000000  \n",
            "3         Fail                    1   211.000000  \n",
            "4         Pass                    0   241.000000  \n",
            "5         Pass                    0   255.000000  \n",
            "6         Fail                    1   166.000000  \n",
            "7         Pass                    0   236.627907  \n",
            "8         Pass                    0   233.297872  \n",
            "9         Pass                    0   257.000000  \n",
            "10        Fail                    1   207.627907  \n",
            "11        Pass                    0   284.000000  \n",
            "12        Pass                    0   272.297872  \n",
            "13        Pass                    0   246.000000  \n",
            "15        Fail                    1   208.000000  \n",
            "16        Fail                    1   212.782609  \n",
            "17        Pass                    0   250.000000  \n",
            "18        Pass                    0   261.000000  \n",
            "19        Pass                    0   275.000000  \n",
            "20        Pass                    0   239.627907  \n",
            "21        Fail                    1   148.000000  \n",
            "22        Pass                    0   249.000000  \n",
            "23        Pass                    0   230.000000  \n",
            "24        Fail                    1   165.000000  \n",
            "25        Pass                    0   256.000000  \n",
            "26        Pass                    0   265.000000  \n",
            "27        Pass                    0   259.000000  \n",
            "28        Pass                    0   229.627907  \n",
            "29        Fail                    1   147.000000  \n",
            "30        Fail                    1   217.000000  \n",
            "31        Pass                    0   260.000000  \n",
            "32        Pass                    0   227.782609  \n",
            "33        Pass                    0   238.000000  \n",
            "34        Fail                    1   219.627907  \n",
            "35        Pass                    0   269.000000  \n",
            "36        Pass                    0   225.782609  \n",
            "37        Fail                    1   211.000000  \n",
            "38        Pass                    0   242.000000  \n",
            "39        Pass                    0   233.000000  \n",
            "40        Pass                    0   243.000000  \n",
            "41        Pass                    0   264.000000  \n",
            "42        Fail                    1   186.000000  \n",
            "43        Pass                    0   242.000000  \n",
            "44        Pass                    0   274.000000  \n",
            "45        Pass                    0   252.627907  \n",
            "46        Fail                    1   212.000000  \n",
            "47        Pass                    0   251.000000  \n",
            "48        Fail                    1   210.000000  \n",
            "49        Pass                    0   234.000000  \n"
          ]
        }
      ],
      "source": [
        "import pandas as pd\n",
        "\n",
        "# Load the CSV file into a Pandas DataFrame\n",
        "df = pd.read_csv(\"students_scores_data.csv\")\n",
        "\n",
        "# Display the first few rows of the initial dataset\n",
        "print(\"Initial Data:\")\n",
        "print(df.head())\n",
        "\n",
        "#  fill missing with NaN values\n",
        "df.replace(\"\", pd.NA, inplace=True)\n",
        "\n",
        "# Conver columns to numeric values & trmobr invalid\n",
        "df[['Math', 'Science', 'English']] = df[['Math', 'Science', 'English']].apply(pd.to_numeric, errors='coerce')\n",
        "\n",
        "# inbuilt func to remove rows where all 3 missing \n",
        "df.dropna(subset=['Math', 'Science', 'English'], how='all', inplace=True)\n",
        "\n",
        "# Replace negative scores with zero for each subject\n",
        "# if zero bigger ie val negitive relace with zero\n",
        "df['Math'] = df['Math'].apply(lambda x: max(0, x) if pd.notna(x) else x)\n",
        "df['Science'] = df['Science'].apply(lambda x: max(0, x) if pd.notna(x) else x)\n",
        "df['English'] = df['English'].apply(lambda x: max(0, x) if pd.notna(x) else x)\n",
        "\n",
        "# Fill remaining NaN values with the mean of each respective column\n",
        "df.fillna(df[['Math', 'Science', 'English']].mean(), inplace=True)\n",
        "\n",
        "# Calculate the Average Score by averaging Math, Science, and English for each student\n",
        "df[\"Average_Score\"] = df[['Math', 'Science', 'English']].mean(axis=1)\n",
        "\n",
        "# A student passes if their Average_Score is 75 or above\n",
        "df[\"Pass_Status\"] = df[\"Average_Score\"].apply(lambda x: \"0\" if x >= 75 else \"1\")\n",
        "\n",
        "# Encode the Pass_Status column: 0 for Pass, 1 for Fail\n",
        "df[\"Pass_Status_Encoded\"] = df[\"Pass_Status\"].map({\"Pass\": 0, \"Fail\": 1})\n",
        "\n",
        "# Count total students and passed students\n",
        "total_students = len(df)\n",
        "passed_students = (df[\"Pass_Status\"] == \"Pass\").sum()\n",
        "\n",
        "# Calculate the pass percentage\n",
        "pass_percentage = (passed_students / total_students) * 100\n",
        "\n",
        "# Display the total number of students passed and the pass percentage\n",
        "print(f\"Total Students Passed: {passed_students}\")\n",
        "print(f\"Pass Percentage: {pass_percentage:.2f}%\")\n",
        "\n",
        "# Determine top 3 students based on total marks\n",
        "df[\"Total_Marks\"] = df[['Math', 'Science', 'English']].sum(axis=1)\n",
        "top_3_students = df.nlargest(3, \"Total_Marks\")\n",
        "\n",
        "# Display the top 3 students based on total marks\n",
        "print(\"\\nTop 3 Students:\")\n",
        "print(top_3_students)\n",
        "\n",
        "print(\"\\nUpdated Data:\")\n",
        "print(df.head())"
      ]
    },
    {
      "cell_type": "markdown",
      "metadata": {
        "id": "pWFbpygmIma8"
      },
      "source": [
        "Task 3:\n",
        "\n",
        "Plot a scatter plot comparing Math vs. Science scores,\n",
        "\n",
        "• where:\n",
        "\n",
        "▪ Excellent: english >= 90\n",
        "\n",
        "▪ Good: 75 <= english < 90\n",
        "\n",
        "▪ Needs Improvement: english < 75\n",
        "\n",
        "• The size of the points is\n",
        "proportional to the English scores.\n",
        "\n",
        "• Color the points based on their performance category (\"Excellent,\" \"Good,\" or \"Needs\n",
        "Improvement\")."
      ]
    },
    {
      "cell_type": "code",
      "execution_count": 36,
      "metadata": {
        "colab": {
          "base_uri": "https://localhost:8080/",
          "height": 564
        },
        "id": "pXmhpqrlKwFw",
        "outputId": "4947bfaa-eb2b-4616-dc3b-b205e9019e8b"
      },
      "outputs": [
        {
          "data": {
            "image/png": "[encoded data removed]",
            "text/plain": [
              "<Figure size 1000x600 with 1 Axes>"
            ]
          },
          "metadata": {},
          "output_type": "display_data"
        }
      ],
      "source": [
        "import matplotlib.pyplot as plt\n",
        "import pandas as pd\n",
        "import seaborn as sns\n",
        "\n",
        "\n",
        "df[\"Performance_Category\"] = pd.cut(df[\"English\"], bins=[0, 75, 90, float(\"inf\")], labels=[\"Needs Improvement\", \"Good\", \"Excellent\"])\n",
        "\n",
        "category_colors = {\"Excellent\": \"green\", \"Good\": \"blue\", \"Needs Improvement\": \"red\"}\n",
        "\n",
        "plt.figure(figsize=(10, 6))\n",
        "sns.scatterplot(x=df[\"Math\"], y=df[\"Science\"],hue=df[\"Performance_Category\"],palette=category_colors,  alpha=0.7,edgecolor=\"black\")\n",
        "\n",
        "plt.xlabel(\"Math Scores\")\n",
        "plt.ylabel(\"Science Scores\")\n",
        "plt.title(\"Math vs. Science Scores with Performance Categories\")\n",
        "plt.legend(title=\"Performance Category\")\n",
        "plt.grid(True)\n",
        "plt.show()"
      ]
    },
    {
      "cell_type": "markdown",
      "metadata": {
        "id": "mrSFVMSvOBNH"
      },
      "source": [
        "Task 4:\n",
        "You are given two arrays of random integers. Your task is to:\n",
        "\n",
        "• Create two numpy arrays of size 10 with random integers between 1 and 100.\n",
        "\n",
        "• Perform element-wise addition, subtraction, multiplication, and division on the two\n",
        "arrays.\n",
        "\n",
        "• Find the dot product of both arrays."
      ]
    },
    {
      "cell_type": "code",
      "execution_count": 7,
      "metadata": {
        "colab": {
          "base_uri": "https://localhost:8080/"
        },
        "id": "C7ZvBNhEOF2Z",
        "outputId": "f0fb32c2-cb00-410b-d68d-f68f0efd08e0"
      },
      "outputs": [
        {
          "name": "stdout",
          "output_type": "stream",
          "text": [
            "\n",
            "Array 1: [ 52  82  24   2 100  20  66  11   6  57]\n",
            "\n",
            "Array 2: [10 17 88 69 84 43  1 95 10 35]\n",
            "\n",
            "Addition Result: [ 62  99 112  71 184  63  67 106  16  92]\n",
            "Subtraction Result: [ 42  65 -64 -67  16 -23  65 -84  -4  22]\n",
            "Multiplication Result: [ 520 1394 2112  138 8400  860   66 1045   60 1995]\n",
            "Division Result: [5.20000000e+00 4.82352941e+00 2.72727273e-01 2.89855072e-02\n",
            " 1.19047619e+00 4.65116279e-01 6.60000000e+01 1.15789474e-01\n",
            " 6.00000000e-01 1.62857143e+00]\n",
            "Dot Product Result: 16590\n"
          ]
        }
      ],
      "source": [
        "import numpy as np\n",
        "\n",
        "array1 = np.random.randint(1, 101, size=10)\n",
        "array2 = np.random.randint(1, 101, size=10)\n",
        "\n",
        "print(\"\\nArray 1:\", array1)\n",
        "print(\"\\nArray 2:\", array2)\n",
        "\n",
        "print(\"\\nAddition Result:\", np.add(array1, array2))\n",
        "print(\"Subtraction Result:\", np.subtract(array1, array2))\n",
        "print(\"Multiplication Result:\", np.multiply(array1, array2))\n",
        "print(\"Division Result:\", np.divide(array1, array2))\n",
        "print(\"Dot Product Result:\", np.dot(array1, array2))"
      ]
    },
    {
      "cell_type": "markdown",
      "metadata": {
        "id": "eoanu_VWOXMl"
      },
      "source": [
        "Task 5:\n",
        "You are given two 4x4 NumPy arrays filled with random integers between 1 and 100. Your\n",
        "task is to:\n",
        "\n",
        "• Add the two arrays element-wise.\n",
        "\n",
        "• Subtract the second array from the first array element-wise.\n",
        "\n",
        "• Multiply both arrays element-wise.\n",
        "\n",
        "• Find the row-wise sum of both arrays.\n",
        "\n",
        "• Compute the overall sum, mean, and standard deviation of the combined arrays."
      ]
    },
    {
      "cell_type": "code",
      "execution_count": 9,
      "metadata": {
        "colab": {
          "base_uri": "https://localhost:8080/"
        },
        "id": "noZlg6QfObVJ",
        "outputId": "c62ac716-46bb-4508-c1fe-2d13e7ee1dac"
      },
      "outputs": [
        {
          "name": "stdout",
          "output_type": "stream",
          "text": [
            "Array 1:\n",
            "[[ 4 10 72 96]\n",
            " [25 67  2 72]\n",
            " [74 17 59 76]\n",
            " [ 6 97 81 49]]\n",
            "Array 2:\n",
            "[[15 59 19 35]\n",
            " [76 39 62 98]\n",
            " [66 99 70 81]\n",
            " [62 10 36 49]]\n",
            "Addition Result:\n",
            "[[ 19  69  91 131]\n",
            " [101 106  64 170]\n",
            " [140 116 129 157]\n",
            " [ 68 107 117  98]]\n",
            "Subtraction Result:\n",
            "[[-11 -49  53  61]\n",
            " [-51  28 -60 -26]\n",
            " [  8 -82 -11  -5]\n",
            " [-56  87  45   0]]\n",
            "Multiplication Result:\n",
            "[[  60  590 1368 3360]\n",
            " [1900 2613  124 7056]\n",
            " [4884 1683 4130 6156]\n",
            " [ 372  970 2916 2401]]\n",
            "Row-wise Sum of Array 1:\n",
            "[182 166 226 233]\n",
            "Row-wise Sum of Array 2:\n",
            "[128 275 316 157]\n",
            "Overall Sum: 1683\n",
            "Overall Mean: 105.1875\n",
            "Overall Standard Deviation: 36.80899813564613\n"
          ]
        }
      ],
      "source": [
        "import numpy as np\n",
        "\n",
        "array1 = np.random.randint(1, 101, size=(4, 4))\n",
        "array2 = np.random.randint(1, 101, size=(4, 4))\n",
        "\n",
        "addition_result = np.add(array1, array2)\n",
        "subtraction_result = np.subtract(array1, array2)\n",
        "multiplication_result = np.multiply(array1, array2)\n",
        "row_wise_sum_array1 = np.sum(array1, axis=1)\n",
        "row_wise_sum_array2 = np.sum(array2, axis=1)\n",
        "overall_sum = np.sum(addition_result)\n",
        "overall_mean = np.mean(addition_result)\n",
        "overall_std_dev = np.std(addition_result)\n",
        "\n",
        "print(\"Array 1:\")\n",
        "print(array1)\n",
        "print(\"Array 2:\")\n",
        "print(array2)\n",
        "print(\"Addition Result:\")\n",
        "print(addition_result)\n",
        "print(\"Subtraction Result:\")\n",
        "print(subtraction_result)\n",
        "print(\"Multiplication Result:\")\n",
        "print(multiplication_result)\n",
        "print(\"Row-wise Sum of Array 1:\")\n",
        "print(row_wise_sum_array1)\n",
        "print(\"Row-wise Sum of Array 2:\")\n",
        "print(row_wise_sum_array2)\n",
        "print(\"Overall Sum:\", overall_sum)\n",
        "print(\"Overall Mean:\", overall_mean)\n",
        "print(\"Overall Standard Deviation:\", overall_std_dev)"
      ]
    },
    {
      "cell_type": "markdown",
      "metadata": {
        "id": "3QzFhxBIO5_Q"
      },
      "source": [
        "Task 6:\n",
        "Perform the following operations:\n",
        "\n",
        "• Create the Array:\n",
        "\n",
        "▪ Generate a 6x6 matrix of random integers between 0 and 100.\n",
        "\n",
        "• Row/Column Calculations:\n",
        "\n",
        "▪ Compute the mean, median, and standard deviation for each student (row).\n",
        "\n",
        "▪ Compute the mean, max, and min for each subject (column).\n",
        "\n",
        "• Identify Outliers:\n",
        "\n",
        "▪ Replace outlier scores (those beyond 2 standard deviations from the mean of each\n",
        "subject) with -1.\n",
        "\n",
        "• Masked Array:\n",
        "\n",
        "▪ Select students who scored above 90 in at least one subject and calculate their\n",
        "average score.\n",
        "\n",
        "• Top n Students:\n",
        "\n",
        "▪ Implement a function to return the indices of the top n students based on their total\n",
        "score across all subjects."
      ]
    },
    {
      "cell_type": "code",
      "execution_count": 26,
      "metadata": {
        "colab": {
          "base_uri": "https://localhost:8080/"
        },
        "id": "faQUxMMHPBtC",
        "outputId": "f1e9be58-9b62-4fd5-afc6-f2a58143b97f"
      },
      "outputs": [
        {
          "name": "stdout",
          "output_type": "stream",
          "text": [
            "Top 5 Students:\n",
            "[[32 46 26 98 62 84]\n",
            " [21 -1 97 54 94 56]\n",
            " [ 2 51 31 79 65 79]\n",
            " [23 54 85 29 91 -1]\n",
            " [61 56  7 22 24 82]]\n"
          ]
        }
      ],
      "source": [
        "import numpy as np\n",
        "\n",
        "# 6x6 random matrix\n",
        "matrix = np.random.randint(0, 101, size=(6, 6))\n",
        "\n",
        "# mean , median , std dev for each row\n",
        "student_mean = np.mean(matrix, axis=1)\n",
        "student_median = np.median(matrix, axis=1)\n",
        "student_std_dev = np.std(matrix, axis=1)\n",
        "\n",
        "# mean , max , min for each col\n",
        "sub_mean = np.mean(matrix, axis=0)\n",
        "sub_max_vals = np.max(matrix, axis=0)\n",
        "sub_min_vals = np.min(matrix, axis=0)\n",
        "\n",
        "#beyond 2 standard deviations from the mean of eachsubject\n",
        "#vectorized approach\n",
        "outliers = np.where(np.abs(matrix - np.mean(matrix, axis=0)) > 2 * np.std(matrix, axis=0))\n",
        "matrix[outliers] = -1\n",
        "\n",
        "#Select students who scored above 90 in at least one subject and calculate their avg\n",
        "average_score_abv_90 = np.mean(matrix[student_mean > 90])\n",
        "\n",
        "def get_top_n_students(matrix, n):\n",
        "    # rowwise/student\n",
        "    total_scores = np.sum(matrix, axis=1)\n",
        "    sorted_indices = np.argsort(total_scores)[::-1]\n",
        "    return sorted_indices[:n]\n",
        "\n",
        "# top student index receivbed\n",
        "# access them from matrix\n",
        "top_n_indices = get_top_n_students(matrix, 5)\n",
        "top_n_students = matrix[top_n_indices]\n",
        "print(\"Top 5 Students:\")\n",
        "print(top_n_students)"
      ]
    }
  ],
  "metadata": {
    "colab": {
      "provenance": []
    },
    "kernelspec": {
      "display_name": "Python 3",
      "name": "python3"
    },
    "language_info": {
      "codemirror_mode": {
        "name": "ipython",
        "version": 3
      },
      "file_extension": ".py",
      "mimetype": "text/x-python",
      "name": "python",
      "nbconvert_exporter": "python",
      "pygments_lexer": "ipython3",
      "version": "3.11.0"
    }
  },
  "nbformat": 4,
  "nbformat_minor": 0
}

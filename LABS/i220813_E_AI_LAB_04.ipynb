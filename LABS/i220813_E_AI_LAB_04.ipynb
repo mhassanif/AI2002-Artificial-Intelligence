{
  "cells": [
    {
      "cell_type": "markdown",
      "metadata": {},
      "source": [
        "# Hassan Imran\n",
        "# 22I-0813\n",
        "# Section E"
      ]
    },
    {
      "cell_type": "markdown",
      "metadata": {
        "id": "JKY3-DNsDrhq"
      },
      "source": [
        "# **UCS**\n",
        "## **Task 1 : Dynamic Network Routing**"
      ]
    },
    {
      "cell_type": "markdown",
      "metadata": {
        "id": "d3W3J9shDrhr"
      },
      "source": [
        "In a dynamic computer network, data packets need to be routed from a source server to a destination server. The network's links are affected not only by typical factors such as bandwidth and latency but also by temporary maintenance activities, which can alter transmission costs temporarily. Your goal is to determine the most cost-efficient route for data packets considering these dynamic conditions.\n",
        "\n",
        "### **Problem Setup:**\n",
        "The network can be modeled as a graph where:\n",
        "\n",
        "- Nodes represent routers in the network.\n",
        "- Edges between nodes represent network links, each associated with a transmission cost that may vary due to bandwidth availability, latency, congestion, and maintenance status.\n",
        "- Due to some maintance the on runtime random cost from 0-3 will be added to the routers with active maintance status\n",
        "\n",
        "\n",
        "\n",
        "| Router 1 | Router 2 | Transmission Cost | Maintenance Status | Example cost added |\n",
        "|----------|----------|-------------------|--------------------| ------------------ |\n",
        "| A        | B        | 6                 | Active             | 2                  |\n",
        "| A        | C        | 3                 | Inactive           | No maintance cost  |\n",
        "| B        | D        | 5                 | Active             | 2                  |\n",
        "| C        | D        | 2                 | Inactive           | No maintance cost  |\n",
        "| C        | E        | 8                 | Active             | 0                  |\n",
        "| D        | F        | 7                 | Inactive           | No maintance cost  |\n",
        "| E        | F        | 4                 | Active             | 1                  |\n",
        "\n",
        "### **Task:**\n",
        "- **Objective:** Find the least costly path for data packets to travel from Router A (source) to Router F (destination), factoring in maintenance statuses which could affect transmission costs.\n",
        "- **Algorithm:** Use Uniform Cost Search (UCS) to explore paths considering the dynamic costs.\n",
        "\n",
        "### **Expected Output:**\n",
        "\n",
        "Path : A → C → D → F (cost: 3 + 2 + 7 = 12)\n"
      ]
    },
    {
      "cell_type": "code",
      "execution_count": 33,
      "metadata": {
        "colab": {
          "base_uri": "https://localhost:8080/"
        },
        "id": "3EMRH7uDDrhs",
        "outputId": "21dda0cc-d28a-49bf-b772-f82bc353f43d"
      },
      "outputs": [
        {
          "name": "stdout",
          "output_type": "stream",
          "text": [
            "Minimum cost: 12\n",
            "Route: A → C → D → F\n"
          ]
        }
      ],
      "source": [
        "import heapq\n",
        "import random\n",
        "\n",
        "def uniform_cost_search(graph, start, goal):\n",
        "    \"\"\"\n",
        "    Implements the Uniform Cost Search algorithm.\n",
        "    Finds the least costly path from the start to the goal node.\n",
        "    \"\"\"\n",
        "    priority_queue = [(0, [start])]  # NODE(cost, path)\n",
        "    visited = set()\n",
        "    min_cost = float('inf')\n",
        "    optimal_path = []\n",
        "\n",
        "    while priority_queue:\n",
        "\n",
        "        # pop node with lowest cost\n",
        "        cost, path = heapq.heappop(priority_queue)\n",
        "\n",
        "        # last element in path ie current\n",
        "        current_node = path[-1]\n",
        "\n",
        "        if current_node == goal:\n",
        "            return cost,path\n",
        "        \n",
        "            # if cost < min_cost:\n",
        "            #     min_cost = cost\n",
        "            #     optimal_path = path\n",
        "            # continue\n",
        "\n",
        "        if current_node in visited:\n",
        "            # skip exploring this node\n",
        "            continue\n",
        "\n",
        "        visited.add(current_node)\n",
        "\n",
        "        for neighbor, edge_cost, maintenance_status in graph[current_node]:\n",
        "            new_cost = cost + edge_cost\n",
        "            if maintenance_status == \"yes\":\n",
        "                new_cost += random.randint(0,3)\n",
        "            new_path = list(path)\n",
        "            new_path.append(neighbor)\n",
        "            heapq.heappush(priority_queue, (new_cost, new_path))\n",
        "\n",
        "    return min_cost, optimal_path\n",
        "\n",
        "network_graph = {\n",
        "    'A': [('B', 6,\"yes\"), ('C', 3,\"no\")],\n",
        "    'B': [('D', 5,\"yes\")],\n",
        "    'C': [('D', 2,\"no\"), ('E', 8,\"yes\")],\n",
        "    'D': [('F', 7,\"no\")],\n",
        "    'E': [('F', 4,\"yes\")]\n",
        "}\n",
        "# start and goal nodes\n",
        "start_router = 'A'\n",
        "destination_router = 'F'\n",
        "#Call the uniform cost search function and print the results\n",
        "min_cost, route = uniform_cost_search(network_graph, start_router, destination_router)\n",
        "print(\"Minimum cost:\", min_cost)\n",
        "print(\"Route:\", \" → \".join(route))\n"
      ]
    },
    {
      "cell_type": "markdown",
      "metadata": {
        "id": "-lt8KzxWDrhs"
      },
      "source": [
        "# **Greedy Search Algorithem ( Best first search )**\n",
        "## **Task 2 : Flight Optimization**"
      ]
    },
    {
      "cell_type": "markdown",
      "metadata": {
        "id": "TH2IqUOpDrhs"
      },
      "source": [
        "Find the most direct flight that:\n",
        "\n",
        "\n",
        "### **Input and Output Details:**\n",
        "#### **Input:**\n",
        "\n",
        "- Flights Dictionary:\n",
        "    - A mapping where each key is a departure city and its value is a dictionary (or mapping) of neighboring cities along with the cost (distance) of traveling between them. Additionally, each flight option also includes a local heuristic estimate (which, in a typical scenario, might be computed rather than pre-supplied). In our task, the heuristic will be computed using Euclidean distance.\n",
        "\n",
        "\n",
        "#### **Output:**\n",
        "- shortest path:\n",
        "    - shortest path based on the heuristic short distance.\n",
        "\n",
        "\n",
        "### **Heuristic Function:**\n",
        "The heuristic function takes the current city and goal city, computes the Euclidean distance to the goal city using the provided coordinates.\n",
        "\n",
        "### **Algorithm Description:**\n",
        "- **Initialize:** Start with the origin city, with zero cost and no cities visited.\n",
        "- **Priority Queue:** Use a priority queue to manage the exploration of city sequences based on their heuristic cost.\n",
        "- **Expand Nodes:** At each step, expand the node (city) with the lowest heuristic cost. Generate new nodes by adding connected cities that have not yet been visited .\n",
        "- **Cycle Check and Completion:** if the goal is visited or the priority queue is empty.\n"
      ]
    },
    {
      "cell_type": "code",
      "execution_count": 34,
      "metadata": {
        "colab": {
          "base_uri": "https://localhost:8080/"
        },
        "id": "JhWb2q3qDrht",
        "outputId": "34acc0a2-91c7-4837-eae3-87ec6e4b8456"
      },
      "outputs": [
        {
          "name": "stdout",
          "output_type": "stream",
          "text": [
            "Shortest path: New York → Philadelphia → Washington D.C.\n"
          ]
        }
      ],
      "source": [
        "import heapq\n",
        "import math\n",
        "\n",
        "def heuristic(current_city, goal_city, city_coords):\n",
        "    \"\"\"\n",
        "    Calculate the heuristic estimate for the path.\n",
        "    TODO: Implement a heuristic function for finding the distance between two cities using eucledian distance.\n",
        "    \"\"\"\n",
        "    x1, y1 = city_coords[current_city]\n",
        "    x2, y2 = city_coords[goal_city]\n",
        "    return math.sqrt((x2 - x1)**2 + (y2 - y1)**2)\n",
        "\n",
        "def best_first_search_flights(city_flights_cost, goal_city, start_city):\n",
        "    \"\"\"\n",
        "    Implement Best-First Greedy Search to find the cheapest flight itinerary.\n",
        "    Initializes and uses a priority queue to manage states based on cost and heuristic estimates.\n",
        "    \"\"\"\n",
        "    # add starting citu and its heuristic val\n",
        "    priority_queue = [(heuristic(start_city,goal_city,city_coords), [start_city])]\n",
        "    visited = set()\n",
        "\n",
        "    while priority_queue:\n",
        "        heuristic_cost, path = heapq.heappop(priority_queue)\n",
        "        current_city = path[-1]\n",
        "\n",
        "        if current_city == goal_city:\n",
        "            return path, heuristic_cost\n",
        "\n",
        "        if current_city in visited:\n",
        "            continue\n",
        "\n",
        "        visited.add(current_city)\n",
        "\n",
        "        if current_city in city_flights_cost:\n",
        "            for next_city, cost in city_flights_cost[current_city].items():\n",
        "\n",
        "                if next_city not in visited:\n",
        "                    new_path = list(path)\n",
        "                    new_path.append(next_city)\n",
        "\n",
        "                    new_heuristic_cost =cost + heuristic_cost+ heuristic(next_city, goal_city, city_coords)\n",
        "\n",
        "                    heapq.heappush(priority_queue, (new_heuristic_cost, new_path))\n",
        "\n",
        "    return None\n",
        "\n",
        "\n",
        "\n",
        "city_flights = {\n",
        "    'New York': {'Philadelphia': 80, 'Boston': 215},\n",
        "    'Philadelphia': {'New York': 80, 'Washington D.C.': 135},\n",
        "    'Boston': {'New York': 215, 'Providence': 50},\n",
        "    'Washington D.C.': {'Philadelphia': 135, 'Richmond': 95},\n",
        "    'Providence': {'Boston': 50}\n",
        "}\n",
        "city_coords = {\n",
        "    'New York': (40.7128, -74.0060),\n",
        "    'Philadelphia': (39.9526, -75.1652),\n",
        "    'Boston': (42.3601, -71.0589),\n",
        "    'Washington D.C.': (38.9072, -77.0369),\n",
        "    'Providence': (41.824, -71.4128),\n",
        "    'Richmond': (37.5407, -77.4360)\n",
        "}\n",
        "start_city = \"New York\"\n",
        "goal_city=\"Washington D.C.\"\n",
        "# call to the function, to be implemented after completing all functions\n",
        "path,cost=best_first_search_flights(city_flights, goal_city, start_city)\n",
        "print(\"Shortest path:\", \" → \".join(path))\n"
      ]
    },
    {
      "cell_type": "code",
      "execution_count": null,
      "metadata": {},
      "outputs": [],
      "source": []
    }
  ],
  "metadata": {
    "colab": {
      "provenance": []
    },
    "kernelspec": {
      "display_name": "Python 3",
      "name": "python3"
    },
    "language_info": {
      "codemirror_mode": {
        "name": "ipython",
        "version": 3
      },
      "file_extension": ".py",
      "mimetype": "text/x-python",
      "name": "python",
      "nbconvert_exporter": "python",
      "pygments_lexer": "ipython3",
      "version": "3.13.2"
    }
  },
  "nbformat": 4,
  "nbformat_minor": 0
}

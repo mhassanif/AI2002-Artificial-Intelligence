{
 "cells": [
  {
   "cell_type": "markdown",
   "metadata": {},
   "source": [
    "# AI Lab# 1\n",
    "## Hassan Imran | 22I-0813 | CS-E \n"
   ]
  },
  {
   "cell_type": "markdown",
   "metadata": {},
   "source": [
    "Task 1: Counting Occurrences in a List\n",
    "Write a Python function that takes a list of numbers as input and returns the count of\n",
    "occurrences for each unique number in the list."
   ]
  },
  {
   "cell_type": "code",
   "execution_count": 19,
   "metadata": {},
   "outputs": [
    {
     "name": "stdout",
     "output_type": "stream",
     "text": [
      "{1: 2, 2: 2, 3: 2, 4: 1}\n"
     ]
    }
   ],
   "source": [
    "arr = [1, 2, 3, 2, 1, 4, 3]\n",
    "count_dict = {}\n",
    "for num in arr:\n",
    "    if num in count_dict:\n",
    "        count_dict[num] += 1\n",
    "    else:\n",
    "        count_dict[num] = 1\n",
    "\n",
    "# print the dictionary\n",
    "print(count_dict)  "
   ]
  },
  {
   "cell_type": "markdown",
   "metadata": {},
   "source": [
    "Task 2: Comparison of Students data\n",
    "Write a function that compares your and your friend's information, including name, age, and\n",
    "list of subjects. The function should:\n",
    "• Identify the subjects that you are studying but your friend is not.\n",
    "• Determine whether you are older than your friend."
   ]
  },
  {
   "cell_type": "code",
   "execution_count": 20,
   "metadata": {},
   "outputs": [
    {
     "name": "stdout",
     "output_type": "stream",
     "text": [
      "Subjects you are studying but your friend is not:  ['pf', 'os', 'automata']\n",
      "You are elder than your friend.\n"
     ]
    }
   ],
   "source": [
    "def compare(your, friend):\n",
    "    unique_subs = []\n",
    "    for subject in your[\"subjects\"]:\n",
    "        if subject not in friend[\"subjects\"]:\n",
    "            unique_subs.append(subject)\n",
    "    print(\"Subjects you are studying but your friend is not: \", unique_subs)\n",
    "\n",
    "    if your[\"age\"] > friend[\"age\"]:\n",
    "        print(\"You are elder than your friend.\")\n",
    "    else :\n",
    "        print(\"You are not elder than your friend.\")\n",
    "\n",
    "your_info = {\n",
    "    \"name\": \"xyz\",\n",
    "    \"age\": 23,\n",
    "    \"subjects\": [\"oop\", \"dsa\", \"pf\", \"os\", \"automata\", \"compiler\", \"web\"]\n",
    "}\n",
    "\n",
    "friend_info = {\n",
    "    \"name\": \"abc\",\n",
    "    \"age\": 20,\n",
    "    \"subjects\": [\"oop\", \"dsa\", \"compiler\", \"web\"]\n",
    "}\n",
    "\n",
    "compare(your_info, friend_info)\n",
    "    "
   ]
  },
  {
   "cell_type": "markdown",
   "metadata": {},
   "source": [
    "Task 3: Squaring List Values and Checking Even or Odd\n",
    "Write a program that squares each value in a given list, then checks if the squared value is\n",
    "even or odd."
   ]
  },
  {
   "cell_type": "code",
   "execution_count": 21,
   "metadata": {},
   "outputs": [
    {
     "name": "stdout",
     "output_type": "stream",
     "text": [
      "1 : odd\n",
      "4 : even\n",
      "9 : odd\n",
      "16 : even\n"
     ]
    }
   ],
   "source": [
    "arr = [1, 2, 3, 4]\n",
    "\n",
    "for num in arr:\n",
    "    squared = num ** 2\n",
    "    if squared % 2 == 0:\n",
    "        print(squared, \": even\")\n",
    "    else:\n",
    "        print(squared, \": odd\")\n"
   ]
  },
  {
   "cell_type": "markdown",
   "metadata": {},
   "source": [
    "Task 4: Create a Class for a Rectangle\n",
    "Create a Python class for a rectangle that can calculate and return both the area and diagonal\n",
    "of the rectangle."
   ]
  },
  {
   "cell_type": "code",
   "execution_count": 22,
   "metadata": {},
   "outputs": [
    {
     "name": "stdout",
     "output_type": "stream",
     "text": [
      "Length: 5\n",
      "Width: 3\n",
      "Area: 15\n",
      "Diagonal: 5.830951894845301\n"
     ]
    }
   ],
   "source": [
    "\n",
    "class Rectangle:\n",
    "    def __init__(self, length, width):\n",
    "        self.length = length\n",
    "        self.width = width\n",
    "\n",
    "    def area(self):\n",
    "        return self.length * self.width\n",
    "    \n",
    "    def diagonal(self):\n",
    "        return (self.length ** 2 + self.width ** 2) ** 0.5\n",
    "    \n",
    "    def display_data(self):\n",
    "        print(\"Length:\", self.length)\n",
    "        print(\"Width:\", self.width)\n",
    "        print(\"Area:\", self.area())\n",
    "        print(\"Diagonal:\", self.diagonal())\n",
    "\n",
    "rectangle = Rectangle(5, 3)\n",
    "rectangle.display_data()\n"
   ]
  },
  {
   "cell_type": "markdown",
   "metadata": {},
   "source": [
    "Task 5: Vehicle System\n",
    "Create a base class Vehicle and derived classes Car and Bike.\n",
    "Create a base class Vehicle with:\n",
    "▪ Attributes : make (manufacturer), model, and year.\n",
    "▪ Method : display_info() that prints the details of the vehicle.\n",
    "\n",
    "Create a derived class Car that inherits from Vehicle:\n",
    "▪ Attributes : Add an attribute num_doors (number of doors).\n",
    "▪ Method : Override the display_info() method to include num_doors.\n",
    "\n",
    "Create another derived class Bike that inherits from Vehicle:\n",
    "▪ Attributes : Add an attribute type_of_bike (e.g., \"mountain\", \"road\").\n",
    "▪ Method : Override the display_info() method to include type_of_bike.\n",
    "\n",
    "Create objects for both Car and Bike, set their attributes, and call the display_info() method\n",
    "to display the information."
   ]
  },
  {
   "cell_type": "code",
   "execution_count": 23,
   "metadata": {},
   "outputs": [
    {
     "name": "stdout",
     "output_type": "stream",
     "text": [
      "Car Details:\n",
      "Make: Toyota\n",
      "Model: Corolla\n",
      "Year: 2020\n",
      "Number of Doors: 4\n",
      "\n",
      "Bike Details:\n",
      "Make: Trek\n",
      "Model: Marlin 7\n",
      "Year: 2021\n",
      "Type of Bike: Mountain\n"
     ]
    }
   ],
   "source": [
    "class vehicle:\n",
    "    def __init__(self, make, model, year):\n",
    "        self.make = make\n",
    "        self.model = model\n",
    "        self.year = year\n",
    "    \n",
    "    def display_info(self):\n",
    "        print(\"Make:\", self.make)\n",
    "        print(\"Model:\", self.model)\n",
    "        print(\"Year:\", self.year)\n",
    "    \n",
    "class car(vehicle):\n",
    "    def __init__(self, make, model, year, num_doors):\n",
    "        super().__init__(make, model, year)\n",
    "        self.num_doors = num_doors\n",
    "    \n",
    "    def display_info(self):\n",
    "        super().display_info()\n",
    "        print(\"Number of Doors:\", self.num_doors)\n",
    "    \n",
    "class bike(vehicle):\n",
    "    def __init__(self, make, model, year, type_of_bike):\n",
    "        super().__init__(make, model, year)\n",
    "        self.type_of_bike = type_of_bike\n",
    "    \n",
    "    def display_info(self):\n",
    "        super().display_info()\n",
    "        print(\"Type of Bike:\", self.type_of_bike)\n",
    "\n",
    "car = car(\"Toyota\", \"Corolla\", 2020, 4)\n",
    "bike = bike(\"Trek\", \"Marlin 7\", 2021, \"Mountain\")\n",
    "\n",
    "print(\"Car Details:\")\n",
    "car.display_info()\n",
    "\n",
    "print(\"\\nBike Details:\")\n",
    "bike.display_info()"
   ]
  }
 ],
 "metadata": {
  "kernelspec": {
   "display_name": "Python 3",
   "language": "python",
   "name": "python3"
  },
  "language_info": {
   "codemirror_mode": {
    "name": "ipython",
    "version": 3
   },
   "file_extension": ".py",
   "mimetype": "text/x-python",
   "name": "python",
   "nbconvert_exporter": "python",
   "pygments_lexer": "ipython3",
   "version": "3.11.0"
  }
 },
 "nbformat": 4,
 "nbformat_minor": 2
}
